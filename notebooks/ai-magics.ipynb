{
 "cells": [
  {
   "cell_type": "code",
   "execution_count": 2,
   "id": "02ac4b98-d83b-43dc-b45f-f5df57323fab",
   "metadata": {},
   "outputs": [],
   "source": [
    "%load_ext jupyter_ai_magics"
   ]
  },
  {
   "cell_type": "code",
   "execution_count": 4,
   "id": "3365aa53-487e-4034-ba6b-7475d13bec7d",
   "metadata": {},
   "outputs": [
    {
     "data": {
      "text/markdown": [
       "```\n",
       "Matrix:\n",
       "⎡⎢⎢⎢⎤⎥⎥⎥⎥⎥⎦\n",
       "🔝 1 0 0 0\n",
       "📉 0 cos(θ) - sin(θ) 0\n",
       "📈 0 sin(θ) cos(θ) 0\n",
       "🔙 0 0 0 1\n",
       "```\n",
       "\n",
       "Explanation:\n",
       "The requested transformation matrix should have the following properties:\n",
       "\n",
       "* It is a 3x4 matrix (i.e., it has 3 rows and 4 columns).\n",
       "* The first three elements of each row are zero.\n",
       "* The first column contains ones; all other elements of this column are zero.\n",
       "* All four elements of the last column are zero.\n",
       "* The remaining elements are as follows:\n",
       "\t+ Elements 2-3 in the second column are zero.\n",
       "\t+ Elements 2-3 in the third column are negative sine(θ).\n",
       "\t+ Elements 2-3 in the fourth column are positive cos(θ)."
      ],
      "text/plain": [
       "<IPython.core.display.Markdown object>"
      ]
     },
     "execution_count": 4,
     "metadata": {
      "text/markdown": {
       "jupyter_ai": {
        "model_id": "gpt-3.5-turbo",
        "provider_id": "openai-chat"
       }
      }
     },
     "output_type": "execute_result"
    }
   ],
   "source": [
    "%%ai chatgpt --format math\n",
    "Generate 3d Spatial Transformation Matrices"
   ]
  },
  {
   "cell_type": "code",
   "execution_count": 3,
   "id": "1abb012d-6fb1-4d54-9ae7-9b87b505194a",
   "metadata": {},
   "outputs": [
    {
     "data": {
      "text/html": [
       "AI generated code inserted below &#11015;&#65039;"
      ],
      "text/plain": [
       "<IPython.core.display.HTML object>"
      ]
     },
     "execution_count": 3,
     "metadata": {
      "text/html": {
       "jupyter_ai": {
        "model_id": "gpt-3.5-turbo",
        "provider_id": "openai-chat"
       }
      }
     },
     "output_type": "execute_result"
    }
   ],
   "source": [
    "%%ai chatgpt --format code\n",
    "Import numpy and define a 2d array of random float number\n",
    "and print the array"
   ]
  },
  {
   "cell_type": "code",
   "execution_count": 7,
   "id": "64e7a103-bf4c-41bc-9a1f-3ebb96157418",
   "metadata": {},
   "outputs": [
    {
     "data": {
      "text/markdown": [
       "Here's the code explained:\n",
       "\n",
       "import numpy as np: Similar to the previous code snippet, we import the NumPy library for efficient numerical operations.\n",
       "\n",
       "arr = np.random.rand(50, 50): As before, we generate a square array (this time of size 50 x 50) composed of uniformly distributed random numbers between 0 and 1.\n",
       "\n",
       "print(arr): At last, we simply send the generated array to the screen with the built-in print() method."
      ],
      "text/plain": [
       "<IPython.core.display.Markdown object>"
      ]
     },
     "execution_count": 7,
     "metadata": {
      "text/markdown": {
       "jupyter_ai": {
        "model_id": "gpt-3.5-turbo",
        "provider_id": "openai-chat"
       }
      }
     },
     "output_type": "execute_result"
    }
   ],
   "source": [
    "%%ai chatgpt\n",
    "Please explain the code below:\n",
    "--\n",
    "{In[6]}"
   ]
  },
  {
   "cell_type": "code",
   "execution_count": null,
   "id": "e8ec5599-c701-4607-ad41-be93496f86f5",
   "metadata": {},
   "outputs": [],
   "source": []
  }
 ],
 "metadata": {
  "kernelspec": {
   "display_name": "Python 3 (ipykernel)",
   "language": "python",
   "name": "python3"
  },
  "language_info": {
   "codemirror_mode": {
    "name": "ipython",
    "version": 3
   },
   "file_extension": ".py",
   "mimetype": "text/x-python",
   "name": "python",
   "nbconvert_exporter": "python",
   "pygments_lexer": "ipython3",
   "version": "3.11.6"
  }
 },
 "nbformat": 4,
 "nbformat_minor": 5
}
