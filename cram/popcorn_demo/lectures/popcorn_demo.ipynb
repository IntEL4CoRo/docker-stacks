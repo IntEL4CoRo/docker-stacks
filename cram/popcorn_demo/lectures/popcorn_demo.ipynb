{
 "cells": [
  {
   "cell_type": "markdown",
   "id": "53e5aceb-b6a9-4c70-b9eb-ce66d407d0f6",
   "metadata": {},
   "source": [
    "# CRAM Popcorn Demo Tutorial\n",
    "\n",
    "Introduction text, overview of this lecture.\n",
    "\n",
    "## Setup\n",
    "\n",
    "### Linux\n",
    "\n",
    "```\n",
    "xhost +local:docker\n",
    "```\n",
    "\n",
    "## How to use Jupyter and execute code\n",
    "\n",
    "Load the demo package and wait for the start to turn into a number. It will say something about `BAD-SYSTEM-NAME` but that's from 3rd-party software and just a style-warning. You can condense the huge outprint by clicking on the blue vertical bar left to the outprint.\n",
    "\n",
    "Click into the code block and press CTRL-ENTER to execute the code."
   ]
  },
  {
   "cell_type": "code",
   "execution_count": null,
   "id": "1923f279-7f69-4fd1-9a7b-6118c1cfaf1e",
   "metadata": {
    "tags": []
   },
   "outputs": [],
   "source": [
    "(asdf:load-system :cram-pr2-popcorn-demo)"
   ]
  },
  {
   "cell_type": "markdown",
   "id": "f1182ec5-cb26-4659-a57e-ead9bfcc4ea6",
   "metadata": {},
   "source": [
    "The following macro boots necessary settings for the `cram-pr2-popcorn-demo` package and it's dependencies, and establishes the ROS connection to the roscore, running in the background, the docker container. This will open up the Bulled Physics simulator, including the environment and the robot."
   ]
  },
  {
   "cell_type": "code",
   "execution_count": 2,
   "id": "560124fc-c6b5-475e-bb82-ed71e1541376",
   "metadata": {
    "collapsed": true,
    "jupyter": {
     "outputs_hidden": true
    },
    "tags": []
   },
   "outputs": [
    {
     "data": {
      "text/plain": [
       "NIL"
      ]
     },
     "execution_count": 2,
     "metadata": {},
     "output_type": "execute_result"
    },
    {
     "name": "stdout",
     "output_type": "stream",
     "text": [
      "[(ROSLISP TOP) INFO] 1666357666.737: Node name is /cram_hl_659465_1666357666\n",
      "[(ROSLISP TOP) INFO] 1666357666.737: Namespace is /\n",
      "[(ROSLISP TOP) INFO] 1666357666.737: Params are NIL\n",
      "[(ROSLISP TOP) INFO] 1666357666.737: Remappings are:\n",
      "[(ROSLISP TOP) INFO] 1666357666.737: master URI is 127.0.0.1:11311\n",
      "[(ROSLISP TOP) INFO] 1666357670.147: Node startup complete\n",
      "[(ROSNODE) INFO] 1666357670.152: ROS init #<FUNCTION CRAM-TF::INIT-TF>.\n",
      "[(CRAM-TF INIT-TF) INFO] 1666357670.152: Set *fixed-frame* to \"map\".\n",
      "[(CRAM-TF INIT-TF) INFO] 1666357670.179: Environment name is IAI-KITCHEN.\n",
      "[(CRAM-TF INIT-TF) INFO] 1666357670.183: Initialized *transformer* to a TRANSFORM-LISTENER.\n",
      "[(CRAM-TF INIT-TF) INFO] 1666357670.183: *tf-default-timeout* is 4.0.\n",
      "[(CRAM-TF INIT-TF) INFO] 1666357670.199: Robot name is PR2.\n",
      "[(CRAM-TF INIT-TF) INFO] 1666357670.202: Set *ODOM-FRAME* to \"odom_combined\".\n",
      "[(CRAM-TF INIT-TF) INFO] 1666357670.202: Set *ROBOT-BASE-FRAME* to \"base_footprint\".\n",
      "[(CRAM-TF INIT-TF) INFO] 1666357670.202: Set *ROBOT-TORSO-FRAME* to \"torso_lift_link\".\n",
      "[(CRAM-TF INIT-TF) INFO] 1666357670.202: Set *ROBOT-TORSO-JOINT* to \"torso_lift_joint\".\n",
      "[(CRAM-TF INIT-TF) INFO] 1666357670.202: Set *ROBOT-LEFT-TOOL-FRAME* to \"l_gripper_tool_frame\".\n",
      "[(CRAM-TF INIT-TF) INFO] 1666357670.202: Set *ROBOT-RIGHT-TOOL-FRAME* to \"r_gripper_tool_frame\".\n",
      "[(ROSNODE) INFO] 1666357670.202: ROS init #<FUNCTION CRAM-TF::INIT-TF-BROADCASTER>.\n",
      "[(ROSNODE) INFO] 1666357670.204: ROS init #<FUNCTION CRAM-TF::INIT-MARKER-PUBLISHER>.\n",
      "[(ROSNODE) INFO] 1666357670.204: ROS init #<FUNCTION CRAM-LOCATION-COSTMAP::LOCATION-COSTMAP-VIS-INIT>.\n",
      "[(ROSNODE) INFO] 1666357670.205: ROS init #<FUNCTION CRAM-BULLET-REASONING-BELIEF-STATE::ROS-TIME-INIT>.\n",
      "[(ROSNODE) INFO] 1666357670.205: ROS init #<FUNCTION CRAM-OCCUPANCY-GRID-COSTMAP::INIT-OCCUPANCY-GRID-COSTMAP>.\n",
      "[(ROSNODE) INFO] 1666357670.207: ROS init #<FUNCTION CRAM-PR2-POPCORN-DEMO::INIT-PROJECTION>.\n",
      "[(SET-ROBOT-STATE-FROM-TF) WARN] 1666357676.673: Failed with transform-stamped-error:\n",
      "    No transform was published between frames base_footprint and map\n",
      "    Ignore this warning if no real robot is running.\n"
     ]
    }
   ],
   "source": [
    "(roslisp-utilities:startup-ros)"
   ]
  },
  {
   "cell_type": "markdown",
   "id": "fd50cbce-8416-4e82-843c-0860896044a9",
   "metadata": {},
   "source": [
    "Now, execute the demo."
   ]
  },
  {
   "cell_type": "code",
   "execution_count": 4,
   "id": "245c1889-ac50-4557-b0e7-b33dec33fe7e",
   "metadata": {},
   "outputs": [
    {
     "data": {
      "text/plain": [
       "((CRAM-PR2-POPCORN-DEMO::DEMO))"
      ]
     },
     "execution_count": 4,
     "metadata": {},
     "output_type": "execute_result"
    }
   ],
   "source": [
    "(urdf-proj:with-simulated-robot (demo::demo))"
   ]
  },
  {
   "cell_type": "markdown",
   "id": "83007415-f93a-4138-9399-42ac62a51bea",
   "metadata": {},
   "source": [
    "## Appendix: Technical Details\n",
    "\n",
    "docker, cram, roscore, roslaunch, jupyter, workspace"
   ]
  }
 ],
 "metadata": {
  "kernelspec": {
   "display_name": "Common Lisp",
   "language": "common-lisp",
   "name": "common-lisp"
  },
  "language_info": {
   "codemirror_mode": "text/x-common-lisp",
   "file_extension": ".lisp",
   "mimetype": "text/x-common-lisp",
   "name": "common-lisp",
   "pygments_lexer": "common-lisp",
   "version": "2.0.1.debian"
  }
 },
 "nbformat": 4,
 "nbformat_minor": 5
}
