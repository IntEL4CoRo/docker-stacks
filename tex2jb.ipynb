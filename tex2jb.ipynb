{
 "cells": [
  {
   "cell_type": "code",
   "execution_count": 1,
   "id": "eca7299b-dd48-4b4e-a324-7eaa188e6793",
   "metadata": {
    "tags": []
   },
   "outputs": [],
   "source": [
    "import glob\n",
    "import re\n",
    "import os"
   ]
  },
  {
   "cell_type": "markdown",
   "id": "20f364eb-7fc9-42dd-9acd-162fb90c8230",
   "metadata": {},
   "source": [
    "### Get environment variables"
   ]
  },
  {
   "cell_type": "code",
   "execution_count": 2,
   "id": "5baea707-3fc7-4f81-9c42-9e9f0f88b340",
   "metadata": {
    "tags": []
   },
   "outputs": [],
   "source": [
    "LATEX_PATH = os.getenv('LATEX_PATH')\n",
    "LATEX_ENTRY = 'intel4coro.tex'\n",
    "IMG_PATH = os.getenv('IMG_PATH')\n",
    "MD_OUTPUT_PATH = os.getenv('MD_OUTPUT_PATH')\n",
    "JB_OUTPUT_PATH = os.getenv('JB_OUTPUT_PATH')\n",
    "MAIN_MD_PATH = MD_OUTPUT_PATH + \"/__main__.md\""
   ]
  },
  {
   "cell_type": "markdown",
   "id": "192c0e85-1ff2-426b-8826-87959bd9cff5",
   "metadata": {},
   "source": [
    "### Convert `intel4coroTextbook/intel4coro.tex` to `jupyterbook/content/__main__.md`\n",
    "1. Clean previous converted markdown files.\n",
    "2. Find and copy all the images from latex project to the markdown folder.\n",
    "3. Convert .tex files to .md files using **pandoc 3.1.2**. (Note: There are two versions of `pandoc` installed, one is 2.19 which installed by JupyterLab. Another is 3.1.2 (/bin/pandoc) which should be used here.)"
   ]
  },
  {
   "cell_type": "code",
   "execution_count": 3,
   "id": "db3fe84b-5765-4527-aea0-192cacf94d77",
   "metadata": {
    "tags": []
   },
   "outputs": [],
   "source": [
    "def runCMD(cmd):\n",
    "    print(\"Shell Command: \", cmd)\n",
    "    os.system(cmd)\n",
    "\n",
    "def convertTex():\n",
    "    runCMD(\"cd {} && /bin/pandoc -f latex -t markdown {} -o {}\".format(LATEX_PATH, LATEX_ENTRY, MAIN_MD_PATH))\n",
    "    \n",
    "def clearMD():\n",
    "    runCMD('rm -rf $MD_OUTPUT_PATH && mkdir $MD_OUTPUT_PATH')\n",
    "\n",
    "def cpImages():\n",
    "    runCMD('find $IMG_PATH -type f -name \"*.*g\" -exec cp {} $MD_OUTPUT_PATH \\;')"
   ]
  },
  {
   "cell_type": "code",
   "execution_count": 4,
   "id": "efea53cc-d5e3-46f1-8153-2b8219daec96",
   "metadata": {
    "tags": []
   },
   "outputs": [
    {
     "name": "stdout",
     "output_type": "stream",
     "text": [
      "Shell Command:  rm -rf $MD_OUTPUT_PATH && mkdir $MD_OUTPUT_PATH\n",
      "Shell Command:  find $IMG_PATH -type f -name \"*.*g\" -exec cp {} $MD_OUTPUT_PATH \\;\n",
      "Shell Command:  cd /data/intel4coroTextbook && /bin/pandoc -f latex -t markdown intel4coro.tex -o /data/jupyterbook/content/__main__.md\n"
     ]
    },
    {
     "name": "stderr",
     "output_type": "stream",
     "text": [
      "[WARNING] Parsing include file kaobiblio failed at kaobiblio.sty line 366 column 5\n",
      "[WARNING] Macro '\\thmname' already defined, ignoring at kaorefs.sty line 33 column 1\n"
     ]
    }
   ],
   "source": [
    "clearMD()\n",
    "cpImages()\n",
    "convertTex()"
   ]
  },
  {
   "cell_type": "markdown",
   "id": "18de452e-5d3b-4e3e-aa32-698a6ec0525d",
   "metadata": {},
   "source": [
    "### Filter out unrecognized code in `__main__.md`\n",
    "Found unconverted code:\n",
    "1. `{#XXX:XXX}` at the end of titles\n",
    "2. `{reference-type=\"XXX\" reference=\"XXX\"}` at the end of reference links"
   ]
  },
  {
   "cell_type": "code",
   "execution_count": 5,
   "id": "0b178aeb-f41d-4884-b81a-3ccf5634c986",
   "metadata": {
    "tags": []
   },
   "outputs": [],
   "source": [
    "def remove_unrecognized_strings(input_file):\n",
    "    with open(input_file, 'r') as file:\n",
    "        markdown_text = file.read()\n",
    "\n",
    "    # Define the pattern for matching the custom strings\n",
    "    patterns = [\n",
    "        r'\\{#[^\\}]+\\}',\n",
    "        r'\\{reference-type=\"(ref|autoref)\"[\\n|\\t|\\r| ]+reference=\"[^\\}]+\\}'\n",
    "    ]\n",
    "\n",
    "    counts = [len(re.findall(i, markdown_text)) for i in patterns]\n",
    "    \n",
    "    print('Unrecognized strings: ', counts)\n",
    "    # Use regular expression to remove the custom strings\n",
    "    for pattern in patterns:\n",
    "        markdown_text = re.sub(pattern, '', markdown_text)\n",
    "\n",
    "    with open(input_file, 'w') as file:\n",
    "        file.write(markdown_text)"
   ]
  },
  {
   "cell_type": "code",
   "execution_count": 6,
   "id": "38aeef85-9995-42c4-9d6f-6bd3c9809e39",
   "metadata": {
    "tags": []
   },
   "outputs": [
    {
     "name": "stdout",
     "output_type": "stream",
     "text": [
      "Unrecognized strings:  [167, 72]\n"
     ]
    }
   ],
   "source": [
    "remove_unrecognized_strings(MAIN_MD_PATH)"
   ]
  },
  {
   "cell_type": "markdown",
   "id": "1093ab99-e2ae-45a0-aae9-8ee7c60b42f6",
   "metadata": {},
   "source": [
    "### Split `__main__.md` into `{chapters}.md`\n",
    "Split `__main__.md` into chapters (e.g., `1_Introduction.md`).\n",
    "\n",
    "Chapters have more than 3 subchapters will be further divided (e.g., `1_1_Running_example_making_popcorn.md`)."
   ]
  },
  {
   "cell_type": "code",
   "execution_count": 7,
   "id": "40bdb654-1c2f-4c86-ad12-f8d985b02231",
   "metadata": {
    "tags": []
   },
   "outputs": [],
   "source": [
    "def escape_title(title):\n",
    "    return re.sub(r'\\W+', '', title.replace('#', '').strip().replace(' ', '_'))\n",
    "\n",
    "def split_text_regex(text, regex):\n",
    "    matches = [i.group() for i in re.finditer(regex, text)]\n",
    "    span_start = [i.span()[0] for i in re.finditer(regex, text)]\n",
    "    span_end = [i - 1 for i in span_start[1:]]\n",
    "    span_end.append(len(text) - 1)\n",
    "    return [(i, span_start[idx], span_end[idx]) for idx, i in enumerate(matches)]\n",
    "\n",
    "def split_to_chapters(input_file, output_directory):\n",
    "    with open(input_file, 'r') as file:\n",
    "        markdown_text = file.read()\n",
    "    chapters = split_text_regex(markdown_text, r'(\\n|^)# \\S+(.*)')\n",
    "    filenames = []\n",
    "    for idx, i in enumerate(chapters):\n",
    "        chapter_content = markdown_text[i[1]:i[2]].strip()\n",
    "        filename = \"{}_{}.md\".format(idx, escape_title(i[0]))\n",
    "        filenames.append(filename)\n",
    "        filepath = output_directory + '/' + filename\n",
    "        with open(filepath, 'w') as file:\n",
    "            file.write(chapter_content)\n",
    "    return filenames\n",
    "\n",
    "def split_to_subchapter(input_file, output_directory):\n",
    "    with open(MD_OUTPUT_PATH + '/' + input_file, 'r') as file:\n",
    "        markdown_text = file.read()\n",
    "    subchapters = split_text_regex(markdown_text, r'(\\n|^)## \\S+(.*)')\n",
    "    if len(subchapters) < 3:\n",
    "        return []\n",
    "    filenames = []\n",
    "    chapter_num = input_file.split('_')[0]\n",
    "    for idx, i in enumerate(subchapters):\n",
    "        subchapter_content = markdown_text[i[1]:i[2]].strip()\n",
    "        filename = \"{}_{}_{}.md\".format(chapter_num, idx + 1, escape_title(i[0]))\n",
    "        filenames.append(filename)\n",
    "        filepath = output_directory + '/' + filename\n",
    "        with open(filepath, 'w') as file:\n",
    "            file.write(subchapter_content)\n",
    "    with open(MD_OUTPUT_PATH + '/' + input_file, 'w') as file:\n",
    "        file.write(markdown_text[:subchapters[0][1]])\n",
    "    return filenames\n"
   ]
  },
  {
   "cell_type": "code",
   "execution_count": null,
   "id": "cd8c8a77-c1ef-49d7-a021-12df746c8553",
   "metadata": {
    "tags": []
   },
   "outputs": [],
   "source": [
    "chapters_md = split_to_chapters(MAIN_MD_PATH, MD_OUTPUT_PATH)\n",
    "subchapters_md = {x: split_to_subchapter(x, MD_OUTPUT_PATH) for x in chapters_md[1:]}"
   ]
  },
  {
   "cell_type": "markdown",
   "id": "85f6d021-8275-43ec-8435-7d273bca8f0f",
   "metadata": {
    "execution": {
     "iopub.execute_input": "2023-05-08T09:48:45.858946Z",
     "iopub.status.busy": "2023-05-08T09:48:45.858657Z",
     "iopub.status.idle": "2023-05-08T09:48:45.860811Z",
     "shell.execute_reply": "2023-05-08T09:48:45.860444Z"
    },
    "tags": []
   },
   "source": [
    "### Generate `_toc.yml`"
   ]
  },
  {
   "cell_type": "code",
   "execution_count": 10,
   "id": "6bbeaad5-a577-43b9-ba11-30f5f85383f9",
   "metadata": {
    "tags": []
   },
   "outputs": [],
   "source": [
    "def generate_toc():\n",
    "    with open('/data/jupyterbook/_toc-template.yml', 'r') as file:\n",
    "        toc_text = file.read()\n",
    "    toc_text = toc_text.strip()\n",
    "    for i in subchapters_md:\n",
    "        toc_text += \"\\n  - file: content/\" + i\n",
    "        if len(subchapters_md[i]) > 0:\n",
    "            toc_text += \"\\n    sections:\"\n",
    "            toc_text += \"\".join([\"\\n    - file: content/\" + x for x in subchapters_md[i]])\n",
    "    \n",
    "    with open('/data/jupyterbook/_toc.yml', 'w') as file:\n",
    "        file.write(toc_text)\n",
    "    return True"
   ]
  },
  {
   "cell_type": "code",
   "execution_count": 11,
   "id": "2e066d82-49b1-46a6-a3ca-1d744ac4f757",
   "metadata": {},
   "outputs": [
    {
     "data": {
      "text/plain": [
       "True"
      ]
     },
     "execution_count": 11,
     "metadata": {},
     "output_type": "execute_result"
    }
   ],
   "source": [
    "generate_toc()"
   ]
  },
  {
   "cell_type": "markdown",
   "id": "87bd85d7-89da-4ca2-b6b6-2e73a91ae659",
   "metadata": {},
   "source": [
    "### Others"
   ]
  },
  {
   "cell_type": "code",
   "execution_count": 11,
   "id": "ef273be5-e334-4783-a9eb-315a1c00ede6",
   "metadata": {
    "tags": []
   },
   "outputs": [],
   "source": [
    "# Copy references.bib\n",
    "!cp /data/intel4coroTextbook/intel4coro.bib /data/jupyterbook/references.bib"
   ]
  },
  {
   "cell_type": "markdown",
   "id": "178ba5e9-0b37-44f4-8dda-241a58be9a54",
   "metadata": {},
   "source": [
    "### Build Jupyter book\n",
    "Open: http://127.0.0.1:8888/files/html/intro.html"
   ]
  },
  {
   "cell_type": "code",
   "execution_count": 12,
   "id": "c888b94e-0b7e-48f7-8ccf-64ce3fdcc70c",
   "metadata": {
    "scrolled": true,
    "tags": []
   },
   "outputs": [
    {
     "name": "stdout",
     "output_type": "stream",
     "text": [
      "~~~~~~~~~~ Building Jupyter Book ~~~~~~~~~~\n",
      "\u001b[32m\u001b[1mRunning Jupyter-Book v0.15.1\u001b[0m\n",
      "\u001b[34m\u001b[1mSource Folder: \u001b[0m/data/jupyterbook\n",
      "\u001b[34m\u001b[1mConfig Path: \u001b[0m/data/jupyterbook/_config.yml\n",
      "\u001b[34m\u001b[1mOutput Path: \u001b[0m/data/jupyterbook/_build/html\n",
      "[sphinxcontrib-bibtex] Beware that docutils versions 0.18 and 0.19 (you are running 0.18.1) are known to generate invalid html for citations. If this issue affects you, please use docutils<0.18 (or >=0.20 once released) instead. For more details, see https://sourceforge.net/p/docutils/patches/195/\n",
      "\u001b[01mRunning Sphinx v5.0.2\u001b[39;49;00m\n",
      "\u001b[01mmaking output directory... \u001b[39;49;00mdone\n",
      "[etoc] Changing master_doc to 'intro'\n",
      "checking bibtex cache... out of date\n",
      "parsing bibtex file /data/jupyterbook/references.bib... parsed 4340 entries\n",
      "\u001b[01mmyst v0.18.1:\u001b[39;49;00m MdParserConfig(commonmark_only=False, gfm_only=False, enable_extensions=['colon_fence', 'dollarmath', 'linkify', 'substitution', 'tasklist'], disable_syntax=[], all_links_external=False, url_schemes=['mailto', 'http', 'https'], ref_domains=None, highlight_code_blocks=True, number_code_blocks=[], title_to_header=False, heading_anchors=None, heading_slug_func=None, footnote_transition=True, words_per_minute=200, sub_delimiters=('{', '}'), linkify_fuzzy_links=True, dmath_allow_labels=True, dmath_allow_space=True, dmath_allow_digits=True, dmath_double_inline=False, update_mathjax=True, mathjax_classes='tex2jax_process|mathjax_process|math|output_area')\n",
      "\u001b[01mmyst-nb v0.17.2:\u001b[39;49;00m NbParserConfig(custom_formats={}, metadata_key='mystnb', cell_metadata_key='mystnb', kernel_rgx_aliases={}, execution_mode='force', execution_cache_path='', execution_excludepatterns=[], execution_timeout=30, execution_in_temp=False, execution_allow_errors=False, execution_raise_on_error=False, execution_show_tb=False, merge_streams=False, render_plugin='default', remove_code_source=False, remove_code_outputs=False, code_prompt_show='Show code cell {type}', code_prompt_hide='Hide code cell {type}', number_source_lines=False, output_stderr='show', render_text_lexer='myst-ansi', render_error_lexer='ipythontb', render_image_options={}, render_figure_options={}, render_markdown_format='commonmark', output_folder='build', append_css=True, metadata_to_fm=False)\n",
      "Using jupyter-cache at: /data/jupyterbook/_build/.jupyter_cache\n",
      "\u001b[01mbuilding [mo]: \u001b[39;49;00mtargets for 0 po files that are out of date\n",
      "\u001b[01mbuilding [html]: \u001b[39;49;00mtargets for 61 source files that are out of date\n",
      "\u001b[01mupdating environment: \u001b[39;49;00m[new config] 61 added, 0 changed, 0 removed\n",
      "\u001b[01mreading sources... \u001b[39;49;00m[100%] \u001b[35mintro\u001b[39;49;00m                                                 ;49;00mts\u001b[39;49;00m\n",
      "\u001b[91m/data/jupyterbook/content/10_1_PID__Controller.md:1: WARNING: Document headings start at H2, not H1 [myst.header]\u001b[39;49;00m\n",
      "\u001b[91m/data/jupyterbook/content/10_2_Trajectory_following.md:1: WARNING: Document headings start at H2, not H1 [myst.header]\u001b[39;49;00m\n",
      "\u001b[91m/data/jupyterbook/content/10_3_Task_space_control.md:1: WARNING: Document headings start at H2, not H1 [myst.header]\u001b[39;49;00m\n",
      "\u001b[91m/data/jupyterbook/content/10_4_Control_Signals.md:1: WARNING: Document headings start at H2, not H1 [myst.header]\u001b[39;49;00m\n",
      "\u001b[31m/data/jupyterbook/content/11_Appendix.md:123: ERROR: Unknown directive type \"=html\".\u001b[39;49;00m\n",
      "\u001b[91m/data/jupyterbook/content/1_1_Running_example_making_popcorn.md:1: WARNING: Document headings start at H2, not H1 [myst.header]\u001b[39;49;00m\n",
      "\u001b[91m/data/jupyterbook/content/1_1_Running_example_making_popcorn.md:119: WARNING: Non-consecutive header level increase; H2 to H5 [myst.header]\u001b[39;49;00m\n",
      "\u001b[91m/data/jupyterbook/content/1_1_Running_example_making_popcorn.md:139: WARNING: Non-consecutive header level increase; H2 to H5 [myst.header]\u001b[39;49;00m\n",
      "\u001b[91m/data/jupyterbook/content/1_2_Story_notes_of_this_chapter.md:1: WARNING: Document headings start at H2, not H1 [myst.header]\u001b[39;49;00m\n",
      "\u001b[91m/data/jupyterbook/content/1_3_Robots_and_agents.md:1: WARNING: Document headings start at H2, not H1 [myst.header]\u001b[39;49;00m\n",
      "\u001b[91m/data/jupyterbook/content/1_4_Story_notes_of_this_chapter.md:1: WARNING: Document headings start at H2, not H1 [myst.header]\u001b[39;49;00m\n",
      "\u001b[91m/data/jupyterbook/content/1_5_Robot_Agents_that_.md:1: WARNING: Document headings start at H2, not H1 [myst.header]\u001b[39;49;00m\n",
      "\u001b[91m/data/jupyterbook/content/1_6_A_glimpse_at_modeling_robot_agents.md:1: WARNING: Document headings start at H2, not H1 [myst.header]\u001b[39;49;00m\n",
      "\u001b[91m/data/jupyterbook/content/1_7_The_challenges_of_developing_control_programs_for_robot_agents.md:1: WARNING: Document headings start at H2, not H1 [myst.header]\u001b[39;49;00m\n",
      "\u001b[91m/data/jupyterbook/content/1_8_Structure_of_the_book.md:1: WARNING: Document headings start at H2, not H1 [myst.header]\u001b[39;49;00m\n",
      "\u001b[91m/data/jupyterbook/content/1_9_Notes.md:1: WARNING: Document headings start at H2, not H1 [myst.header]\u001b[39;49;00m\n",
      "\u001b[31m/data/jupyterbook/content/1_9_Notes.md:21: ERROR: Unknown directive type \"=html\".\u001b[39;49;00m\n",
      "\u001b[31m/data/jupyterbook/content/1_9_Notes.md:30: ERROR: Unknown directive type \"=html\".\u001b[39;49;00m\n",
      "\u001b[91m/data/jupyterbook/content/3_1_Learning_outcomes.md:1: WARNING: Document headings start at H2, not H1 [myst.header]\u001b[39;49;00m\n",
      "\u001b[91m/data/jupyterbook/content/3_2_Robot_bodies.md:1: WARNING: Document headings start at H2, not H1 [myst.header]\u001b[39;49;00m\n",
      "\u001b[91m/data/jupyterbook/content/3_2_Robot_bodies.md:51: WARNING: image file not readable: content/example-image\u001b[39;49;00m\n",
      "\u001b[91m/data/jupyterbook/content/3_2_Robot_bodies.md:64: WARNING: image file not readable: content/example-image\u001b[39;49;00m\n",
      "\u001b[91m/data/jupyterbook/content/3_2_Robot_bodies.md:75: WARNING: image file not readable: content/example-image\u001b[39;49;00m\n",
      "\u001b[91m/data/jupyterbook/content/3_2_Robot_bodies.md:98: WARNING: image file not readable: img/03/joints.pdf\u001b[39;49;00m\n",
      "\u001b[91m/data/jupyterbook/content/3_2_Robot_bodies.md:114: WARNING: image file not readable: img/03/CylindricalJoint.pdf\u001b[39;49;00m\n",
      "\u001b[91m/data/jupyterbook/content/3_2_Robot_bodies.md:279: WARNING: image file not readable: content/img/pr2_body.png\u001b[39;49;00m\n",
      "\u001b[91m/data/jupyterbook/content/3_2_Robot_bodies.md:336: WARNING: image file not readable: content/img/pr2_casters_schematic.png\u001b[39;49;00m\n",
      "\u001b[91m/data/jupyterbook/content/3_3_Actuating_the_robot_body.md:1: WARNING: Document headings start at H2, not H1 [myst.header]\u001b[39;49;00m\n",
      "\u001b[91m/data/jupyterbook/content/3_4_Objects_substances_humans_and_environments.md:1: WARNING: Document headings start at H2, not H1 [myst.header]\u001b[39;49;00m\n",
      "\u001b[91m/data/jupyterbook/content/3_5_Robot_body_motions_and_their_physical_effects.md:1: WARNING: Document headings start at H2, not H1 [myst.header]\u001b[39;49;00m\n",
      "\u001b[91m/data/jupyterbook/content/3_6_Robotsimulation.md:1: WARNING: Document headings start at H2, not H1 [myst.header]\u001b[39;49;00m\n",
      "\u001b[91m/data/jupyterbook/content/3_7_State_transition_model.md:1: WARNING: Document headings start at H2, not H1 [myst.header]\u001b[39;49;00m\n",
      "\u001b[91m/data/jupyterbook/content/3_8_Probabilistic_causal_models.md:1: WARNING: Document headings start at H2, not H1 [myst.header]\u001b[39;49;00m\n",
      "\u001b[91m/data/jupyterbook/content/4_1_Learning_Outcomes.md:1: WARNING: Document headings start at H2, not H1 [myst.header]\u001b[39;49;00m\n",
      "\u001b[91m/data/jupyterbook/content/4_2_Sensors.md:1: WARNING: Document headings start at H2, not H1 [myst.header]\u001b[39;49;00m\n",
      "\u001b[91m/data/jupyterbook/content/4_3_Sensor_data.md:1: WARNING: Document headings start at H2, not H1 [myst.header]\u001b[39;49;00m\n",
      "\u001b[91m/data/jupyterbook/content/5_1_Learning_Outcomes.md:1: WARNING: Document headings start at H2, not H1 [myst.header]\u001b[39;49;00m\n",
      "\u001b[91m/data/jupyterbook/content/5_2_Imagebased_question_answering.md:1: WARNING: Document headings start at H2, not H1 [myst.header]\u001b[39;49;00m\n",
      "\u001b[91m/data/jupyterbook/content/5_3_Belief_management.md:1: WARNING: Document headings start at H2, not H1 [myst.header]\u001b[39;49;00m\n",
      "\u001b[91m/data/jupyterbook/content/5_4_Event_perception.md:1: WARNING: Document headings start at H2, not H1 [myst.header]\u001b[39;49;00m\n",
      "\u001b[91m/data/jupyterbook/content/7_10_Exercises.md:1: WARNING: Document headings start at H2, not H1 [myst.header]\u001b[39;49;00m\n",
      "\u001b[91m/data/jupyterbook/content/7_11_Solutions.md:1: WARNING: Document headings start at H2, not H1 [myst.header]\u001b[39;49;00m\n",
      "\u001b[31m/data/jupyterbook/content/7_11_Solutions.md:5: ERROR: Unknown directive type \"style=\"Prolog\"\".\u001b[39;49;00m\n",
      "\u001b[31m/data/jupyterbook/content/7_11_Solutions.md:18: ERROR: Unknown directive type \"style=\"Prolog\"\".\u001b[39;49;00m\n",
      "\u001b[31m/data/jupyterbook/content/7_11_Solutions.md:31: ERROR: Unknown directive type \"style=\"Prolog\"\".\u001b[39;49;00m\n",
      "\u001b[31m/data/jupyterbook/content/7_11_Solutions.md:48: ERROR: Unknown directive type \"style=\"Prolog\"\".\u001b[39;49;00m\n",
      "\u001b[91m/data/jupyterbook/content/7_12_CrossReferences.md:1: WARNING: Document headings start at H2, not H1 [myst.header]\u001b[39;49;00m\n",
      "\u001b[91m/data/jupyterbook/content/7_13_Prospection.md:1: WARNING: Document headings start at H2, not H1 [myst.header]\u001b[39;49;00m\n",
      "\u001b[91m/data/jupyterbook/content/7_1_Learning_Outcomes.md:1: WARNING: Document headings start at H2, not H1 [myst.header]\u001b[39;49;00m\n",
      "\u001b[91m/data/jupyterbook/content/7_2_Learning.md:1: WARNING: Document headings start at H2, not H1 [myst.header]\u001b[39;49;00m\n",
      "\u001b[91m/data/jupyterbook/content/7_3_Knowing.md:1: WARNING: Document headings start at H2, not H1 [myst.header]\u001b[39;49;00m\n",
      "\u001b[91m/data/jupyterbook/content/7_4_Reasoning.md:1: WARNING: Document headings start at H2, not H1 [myst.header]\u001b[39;49;00m\n",
      "\u001b[91m/data/jupyterbook/content/7_5_Learning_Outcomes.md:1: WARNING: Document headings start at H2, not H1 [myst.header]\u001b[39;49;00m\n",
      "\u001b[91m/data/jupyterbook/content/7_6_Knowledgeenabled_agent_architecture.md:1: WARNING: Document headings start at H2, not H1 [myst.header]\u001b[39;49;00m\n",
      "\u001b[91m/data/jupyterbook/content/7_7_Logicbased_knowledge_representation_and_reasoning.md:1: WARNING: Document headings start at H2, not H1 [myst.header]\u001b[39;49;00m\n",
      "\u001b[91m/data/jupyterbook/content/7_8_KRR_within_perceptionaction_loops.md:1: WARNING: Document headings start at H2, not H1 [myst.header]\u001b[39;49;00m\n",
      "\u001b[91m/data/jupyterbook/content/7_9_Conclusion.md:1: WARNING: Document headings start at H2, not H1 [myst.header]\u001b[39;49;00m\n",
      "\u001b[91m/data/jupyterbook/content/9_1_Learning_Outcomes.md:1: WARNING: Document headings start at H2, not H1 [myst.header]\u001b[39;49;00m\n",
      "\u001b[91m/data/jupyterbook/content/9_2_Planbased_control.md:1: WARNING: Document headings start at H2, not H1 [myst.header]\u001b[39;49;00m\n",
      "\u001b[91m/data/jupyterbook/content/9_3_Introduction_to_motion_planning.md:1: WARNING: Document headings start at H2, not H1 [myst.header]\u001b[39;49;00m\n",
      "\u001b[91m/data/jupyterbook/content/9_4_Motion_Planning_basics.md:1: WARNING: Document headings start at H2, not H1 [myst.header]\u001b[39;49;00m\n",
      "\u001b[91m/data/jupyterbook/content/9_5_complete_motion_planning.md:1: WARNING: Document headings start at H2, not H1 [myst.header]\u001b[39;49;00m\n",
      "\u001b[91m/data/jupyterbook/content/9_6_Sampling_Motion_Planning.md:1: WARNING: Document headings start at H2, not H1 [myst.header]\u001b[39;49;00m\n",
      "\u001b[91m/data/jupyterbook/content/__main__.md:227: WARNING: Non-consecutive header level increase; H2 to H5 [myst.header]\u001b[39;49;00m\n",
      "\u001b[91m/data/jupyterbook/content/__main__.md:247: WARNING: Non-consecutive header level increase; H2 to H5 [myst.header]\u001b[39;49;00m\n",
      "\u001b[31m/data/jupyterbook/content/__main__.md:1023: ERROR: Unknown directive type \"=html\".\u001b[39;49;00m\n",
      "\u001b[31m/data/jupyterbook/content/__main__.md:1032: ERROR: Unknown directive type \"=html\".\u001b[39;49;00m\n",
      "\u001b[31m/data/jupyterbook/content/__main__.md:4292: ERROR: Unknown directive type \"style=\"Prolog\"\".\u001b[39;49;00m\n",
      "\u001b[31m/data/jupyterbook/content/__main__.md:4305: ERROR: Unknown directive type \"style=\"Prolog\"\".\u001b[39;49;00m\n",
      "\u001b[31m/data/jupyterbook/content/__main__.md:4318: ERROR: Unknown directive type \"style=\"Prolog\"\".\u001b[39;49;00m\n",
      "\u001b[31m/data/jupyterbook/content/__main__.md:4335: ERROR: Unknown directive type \"style=\"Prolog\"\".\u001b[39;49;00m\n",
      "\u001b[31m/data/jupyterbook/content/__main__.md:4766: ERROR: Unknown directive type \"=html\".\u001b[39;49;00m\n",
      "\u001b[91m/data/jupyterbook/content/__main__.md:1325: WARNING: image file not readable: content/example-image\u001b[39;49;00m\n",
      "\u001b[91m/data/jupyterbook/content/__main__.md:1338: WARNING: image file not readable: content/example-image\u001b[39;49;00m\n",
      "\u001b[91m/data/jupyterbook/content/__main__.md:1349: WARNING: image file not readable: content/example-image\u001b[39;49;00m\n",
      "\u001b[91m/data/jupyterbook/content/__main__.md:1372: WARNING: image file not readable: img/03/joints.pdf\u001b[39;49;00m\n",
      "\u001b[91m/data/jupyterbook/content/__main__.md:1388: WARNING: image file not readable: img/03/CylindricalJoint.pdf\u001b[39;49;00m\n",
      "\u001b[91m/data/jupyterbook/content/__main__.md:1553: WARNING: image file not readable: content/img/pr2_body.png\u001b[39;49;00m\n",
      "\u001b[91m/data/jupyterbook/content/__main__.md:1610: WARNING: image file not readable: content/img/pr2_casters_schematic.png\u001b[39;49;00m\n",
      "\u001b[01mlooking for now-outdated files... \u001b[39;49;00mnone found\n",
      "\u001b[01mpickling environment... \u001b[39;49;00mdone\n",
      "\u001b[01mchecking consistency... \u001b[39;49;00m\u001b[91m/data/jupyterbook/content/__main__.md: WARNING: document isn't included in any toctree\u001b[39;49;00m\n",
      "done\n",
      "\u001b[01mpreparing documents... \u001b[39;49;00mdone\n",
      "\u001b[01mwriting output... \u001b[39;49;00m[100%] \u001b[32mintro\u001b[39;49;00m                                                  49;00mts\u001b[39;49;00m\n",
      "\u001b[91m/data/jupyterbook/content/11_Appendix.md:73: WARNING: Pygments lexer name '{.prolog' is not known\u001b[39;49;00m\n",
      "\u001b[91m/data/jupyterbook/content/11_Appendix.md:234: WARNING: Pygments lexer name 'center' is not known\u001b[39;49;00m\n",
      "\u001b[91m/data/jupyterbook/content/1_1_Running_example_making_popcorn.md:3: WARNING: 'myst' reference target not found: #fig:making-popcorn\u001b[39;49;00m\n",
      "\u001b[91m/data/jupyterbook/content/1_2_Story_notes_of_this_chapter.md:3: WARNING: Pygments lexer name 'StoryNote' is not known\u001b[39;49;00m\n",
      "\u001b[91m/data/jupyterbook/content/1_3_Robots_and_agents.md:22: WARNING: 'myst' reference target not found: #img:control_system\u001b[39;49;00m\n",
      "\u001b[91m/data/jupyterbook/content/1_3_Robots_and_agents.md:55: WARNING: 'myst' reference target not found: #sec:illustrative-examples\u001b[39;49;00m\n",
      "\u001b[91m/data/jupyterbook/content/1_4_Story_notes_of_this_chapter.md:3: WARNING: Pygments lexer name 'StoryNote' is not known\u001b[39;49;00m\n",
      "\u001b[91m/data/jupyterbook/content/1_5_Robot_Agents_that_.md:29: WARNING: 'myst' reference target not found: #fig:household-challenge\u001b[39;49;00m\n",
      "\u001b[91m/data/jupyterbook/content/1_5_Robot_Agents_that_.md:71: WARNING: 'myst' reference target not found: #fig:pick-up-variations\u001b[39;49;00m\n",
      "\u001b[91m/data/jupyterbook/content/1_5_Robot_Agents_that_.md:94: WARNING: 'myst' reference target not found: #fig:replenishing-shelves\u001b[39;49;00m\n",
      "\u001b[91m/data/jupyterbook/content/1_5_Robot_Agents_that_.md:138: WARNING: 'myst' reference target not found: #fig:store-mapping\u001b[39;49;00m\n",
      "\u001b[91m/data/jupyterbook/content/1_5_Robot_Agents_that_.md:156: WARNING: 'myst' reference target not found: #fig:replenishing-shelves\u001b[39;49;00m\n",
      "\u001b[91m/data/jupyterbook/content/1_5_Robot_Agents_that_.md:180: WARNING: 'myst' reference target not found: #fig:medical_lab\u001b[39;49;00m\n",
      "\u001b[91m/data/jupyterbook/content/1_5_Robot_Agents_that_.md:245: WARNING: 'myst' reference target not found: #sec:household-challenge\u001b[39;49;00m\n",
      "\u001b[91m/data/jupyterbook/content/1_5_Robot_Agents_that_.md:273: WARNING: 'myst' reference target not found: #fig:learning-from-videos\u001b[39;49;00m\n",
      "\u001b[91m/data/jupyterbook/content/1_8_Structure_of_the_book.md:8: WARNING: 'myst' reference target not found: #fig:book-organization\u001b[39;49;00m\n",
      "\u001b[91m/data/jupyterbook/content/1_Introduction.md:3: WARNING: 'myst' reference target not found: #img:pr2_robot\u001b[39;49;00m\n",
      "\u001b[91m/data/jupyterbook/content/1_Introduction.md:15: WARNING: 'myst' reference target not found: #img:pr2_controller\u001b[39;49;00m\n",
      "\u001b[91m/data/jupyterbook/content/2_Robot_agents.md:42: WARNING: 'myst' reference target not found: #fig:rational-agent-model\u001b[39;49;00m\n",
      "\u001b[91m/data/jupyterbook/content/2_Robot_agents.md:5: WARNING: Pygments lexer name 'StoryNote' is not known\u001b[39;49;00m\n",
      "\u001b[91m/data/jupyterbook/content/2_Robot_agents.md:48: WARNING: Pygments lexer name 'definition' is not known\u001b[39;49;00m\n",
      "\u001b[91m/data/jupyterbook/content/2_Robot_agents.md:58: WARNING: Pygments lexer name 'definition' is not known\u001b[39;49;00m\n",
      "\u001b[91m/data/jupyterbook/content/2_Robot_agents.md:64: WARNING: Pygments lexer name 'definition' is not known\u001b[39;49;00m\n",
      "\u001b[91m/data/jupyterbook/content/2_Robot_agents.md:70: WARNING: Pygments lexer name 'definition' is not known\u001b[39;49;00m\n",
      "\u001b[91m/data/jupyterbook/content/3_2_Robot_bodies.md:24: WARNING: 'myst' reference target not found: #tab:actuators_grippers_and_manipulators\u001b[39;49;00m\n",
      "\u001b[91m/data/jupyterbook/content/3_2_Robot_bodies.md:84: WARNING: 'myst' reference target not found: #fig:joints\u001b[39;49;00m\n",
      "\u001b[91m/data/jupyterbook/content/3_2_Robot_bodies.md:108: WARNING: 'myst' reference target not found: #fig:joints\u001b[39;49;00m\n",
      "\u001b[91m/data/jupyterbook/content/3_2_Robot_bodies.md:108: WARNING: 'myst' reference target not found: #fig:cylindric\u001b[39;49;00m\n",
      "\u001b[91m/data/jupyterbook/content/3_2_Robot_bodies.md:131: WARNING: 'myst' reference target not found: #fig:locomotion-types\u001b[39;49;00m\n",
      "\u001b[91m/data/jupyterbook/content/3_2_Robot_bodies.md:131: WARNING: 'myst' reference target not found: #tab:drives\u001b[39;49;00m\n",
      "\u001b[91m/data/jupyterbook/content/3_2_Robot_bodies.md:305: WARNING: 'myst' reference target not found: #tab:pr2_dofs\u001b[39;49;00m\n",
      "\u001b[91m/data/jupyterbook/content/3_2_Robot_bodies.md:329: WARNING: 'myst' reference target not found: #fig:pr2_casters\u001b[39;49;00m\n",
      "\u001b[91m/data/jupyterbook/content/3_2_Robot_bodies.md:342: WARNING: 'myst' reference target not found: #img:pr2_gripper\u001b[39;49;00m\n",
      "\u001b[91m/data/jupyterbook/content/3_2_Robot_bodies.md:353: WARNING: 'myst' reference target not found: #img:pr2_laser_tilt\u001b[39;49;00m\n",
      "\u001b[91m/data/jupyterbook/content/3_2_Robot_bodies.md:353: WARNING: 'myst' reference target not found: #img:pr2_laser_base\u001b[39;49;00m\n",
      "\u001b[91m/data/jupyterbook/content/3_2_Robot_bodies.md:353: WARNING: 'myst' reference target not found: #img:pr2_camera\u001b[39;49;00m\n",
      "\u001b[91m/data/jupyterbook/content/3_2_Robot_bodies.md:196: WARNING: Pygments lexer name 'center' is not known\u001b[39;49;00m\n",
      "\u001b[91m/data/jupyterbook/content/3_2_Robot_bodies.md:204: WARNING: Pygments lexer name 'center' is not known\u001b[39;49;00m\n",
      "\u001b[91m/data/jupyterbook/content/3_2_Robot_bodies.md:224: WARNING: Pygments lexer name 'center' is not known\u001b[39;49;00m\n",
      "\u001b[91m/data/jupyterbook/content/3_2_Robot_bodies.md:230: WARNING: Pygments lexer name 'center' is not known\u001b[39;49;00m\n",
      "\u001b[91m/data/jupyterbook/content/3_2_Robot_bodies.md:239: WARNING: Pygments lexer name 'center' is not known\u001b[39;49;00m\n",
      "\u001b[91m/data/jupyterbook/content/3_7_State_transition_model.md:31: WARNING: 'myst' reference target not found: #fig:state-abstraction\u001b[39;49;00m\n",
      "\u001b[91m/data/jupyterbook/content/3_7_State_transition_model.md:114: WARNING: 'myst' reference target not found: #fig:state-abstraction\u001b[39;49;00m\n",
      "\u001b[91m/data/jupyterbook/content/3_7_State_transition_model.md:188: WARNING: 'myst' reference target not found: #sec:discussion\u001b[39;49;00m\n",
      "\u001b[91m/data/jupyterbook/content/3_7_State_transition_model.md:243: WARNING: 'myst' reference target not found: #fig:state-transition-system\u001b[39;49;00m\n",
      "\u001b[91m/data/jupyterbook/content/3_7_State_transition_model.md:263: WARNING: 'myst' reference target not found: #fig:state-transition-system\u001b[39;49;00m\n",
      "\u001b[91m/data/jupyterbook/content/3_7_State_transition_model.md:279: WARNING: 'myst' reference target not found: #fig:state-transition-system\u001b[39;49;00m\n",
      "\u001b[91m/data/jupyterbook/content/4_2_Sensors.md:5: WARNING: 'myst' reference target not found: #img:unexpected_changes\u001b[39;49;00m\n",
      "\u001b[91m/data/jupyterbook/content/4_2_Sensors.md:32: WARNING: 'myst' reference target not found: #img:robot_environment\u001b[39;49;00m\n",
      "\u001b[91m/data/jupyterbook/content/4_2_Sensors.md:40: WARNING: 'myst' reference target not found: #img:sensor_principle\u001b[39;49;00m\n",
      "\u001b[91m/data/jupyterbook/content/4_2_Sensors.md:48: WARNING: 'myst' reference target not found: #img:sensor_ubiquitous\u001b[39;49;00m\n",
      "\u001b[91m/data/jupyterbook/content/4_2_Sensors.md:92: WARNING: 'myst' reference target not found: #img:sensor-vs-perceptor\u001b[39;49;00m\n",
      "\u001b[91m/data/jupyterbook/content/4_2_Sensors.md:92: WARNING: 'myst' reference target not found: #img:sensor-vs-perceptor\u001b[39;49;00m\n",
      "\u001b[91m/data/jupyterbook/content/4_2_Sensors.md:163: WARNING: 'myst' reference target not found: #img:pr2_camera\u001b[39;49;00m\n",
      "\u001b[91m/data/jupyterbook/content/4_2_Sensors.md:261: WARNING: 'myst' reference target not found: #img:mechanical_sensors\u001b[39;49;00m\n",
      "\u001b[91m/data/jupyterbook/content/4_3_Sensor_data.md:70: WARNING: 'myst' reference target not found: #img:sensor_sensitivity\u001b[39;49;00m\n",
      "\u001b[91m/data/jupyterbook/content/4_3_Sensor_data.md:91: WARNING: 'myst' reference target not found: #img:sensor_precision\u001b[39;49;00m\n",
      "\u001b[91m/data/jupyterbook/content/4_3_Sensor_data.md:136: WARNING: 'myst' reference target not found: #img:sensor_hysteresis\u001b[39;49;00m\n",
      "\u001b[91m/data/jupyterbook/content/4_3_Sensor_data.md:155: WARNING: 'myst' reference target not found: #img:sensors_ros\u001b[39;49;00m\n",
      "\u001b[91m/data/jupyterbook/content/4_3_Sensor_data.md:180: WARNING: 'myst' reference target not found: #img:sensor_data\u001b[39;49;00m\n",
      "\u001b[91m/data/jupyterbook/content/4_3_Sensor_data.md:194: WARNING: 'myst' reference target not found: #img:sensor_noise\u001b[39;49;00m\n",
      "\u001b[91m/data/jupyterbook/content/4_3_Sensor_data.md:270: WARNING: 'myst' reference target not found: #img:sensor_model\u001b[39;49;00m\n",
      "\u001b[91m/data/jupyterbook/content/4_3_Sensor_data.md:286: WARNING: 'myst' reference target not found: #img:sensor_sample\u001b[39;49;00m\n",
      "\u001b[91m/data/jupyterbook/content/4_3_Sensor_data.md:303: WARNING: 'myst' reference target not found: #img:sensor_model_approximation\u001b[39;49;00m\n",
      "\u001b[91m/data/jupyterbook/content/4_3_Sensor_data.md:331: WARNING: 'myst' reference target not found: #img:sensor_denoising\u001b[39;49;00m\n",
      "\u001b[91m/data/jupyterbook/content/4_3_Sensor_data.md:331: WARNING: 'myst' reference target not found: #img:sensor_denoising\u001b[39;49;00m\n",
      "\u001b[91m/data/jupyterbook/content/7_6_Knowledgeenabled_agent_architecture.md:54: WARNING: 'myst' reference target not found: #fig:knowlege-enabled-agent\u001b[39;49;00m\n",
      "\u001b[91m/data/jupyterbook/content/7_7_Logicbased_knowledge_representation_and_reasoning.md:3: WARNING: 'myst' reference target not found: #sec:knowledge-system\u001b[39;49;00m\n",
      "\u001b[91m/data/jupyterbook/content/7_7_Logicbased_knowledge_representation_and_reasoning.md:56: WARNING: 'myst' reference target not found: #fig:follows-and-entails\u001b[39;49;00m\n",
      "\u001b[91m/data/jupyterbook/content/7_7_Logicbased_knowledge_representation_and_reasoning.md:97: WARNING: 'myst' reference target not found: #fig:logic\u001b[39;49;00m\n",
      "\u001b[91m/data/jupyterbook/content/7_7_Logicbased_knowledge_representation_and_reasoning.md:302: WARNING: 'myst' reference target not found: #sec:complexity\u001b[39;49;00m\n",
      "\u001b[91m/data/jupyterbook/content/7_7_Logicbased_knowledge_representation_and_reasoning.md:647: WARNING: 'myst' reference target not found: #eq:initial-state\u001b[39;49;00m\n",
      "\u001b[91m/data/jupyterbook/content/7_7_Logicbased_knowledge_representation_and_reasoning.md:647: WARNING: 'myst' reference target not found: #eq:goal-state\u001b[39;49;00m\n",
      "\u001b[91m/data/jupyterbook/content/7_7_Logicbased_knowledge_representation_and_reasoning.md:681: WARNING: 'myst' reference target not found: #eq:reasoning-example\u001b[39;49;00m\n",
      "\u001b[91m/data/jupyterbook/content/7_7_Logicbased_knowledge_representation_and_reasoning.md:731: WARNING: 'myst' reference target not found: #sec:evolution-modelling\u001b[39;49;00m\n",
      "\u001b[91m/data/jupyterbook/content/7_7_Logicbased_knowledge_representation_and_reasoning.md:366: WARNING: Pygments lexer name 'tabbing' is not known\u001b[39;49;00m\n",
      "\u001b[91m/data/jupyterbook/content/7_7_Logicbased_knowledge_representation_and_reasoning.md:651: WARNING: Pygments lexer name 'tabbing' is not known\u001b[39;49;00m\n",
      "\u001b[91m/data/jupyterbook/content/7_8_KRR_within_perceptionaction_loops.md:43: WARNING: 'myst' reference target not found: #fig:Flannagan\u001b[39;49;00m\n",
      "\u001b[91m/data/jupyterbook/content/7_8_KRR_within_perceptionaction_loops.md:77: WARNING: 'myst' reference target not found: #fig:constraint-based-control\u001b[39;49;00m\n",
      "\u001b[91m/data/jupyterbook/content/7_8_KRR_within_perceptionaction_loops.md:98: WARNING: 'myst' reference target not found: #fig:generalized-knowledge\u001b[39;49;00m\n",
      "\u001b[91m/data/jupyterbook/content/7_8_KRR_within_perceptionaction_loops.md:174: WARNING: 'myst' reference target not found: #fig:motion-plan\u001b[39;49;00m\n",
      "\u001b[91m/data/jupyterbook/content/7_8_KRR_within_perceptionaction_loops.md:189: WARNING: 'myst' reference target not found: #fig:generalized-knowledge\u001b[39;49;00m\n",
      "\u001b[91m/data/jupyterbook/content/7_8_KRR_within_perceptionaction_loops.md:237: WARNING: 'myst' reference target not found: #fig:making-popcorn\u001b[39;49;00m\n",
      "\u001b[91m/data/jupyterbook/content/7_8_KRR_within_perceptionaction_loops.md:326: WARNING: 'myst' reference target not found: #sec:contextualization\u001b[39;49;00m\n",
      "\u001b[91m/data/jupyterbook/content/7_8_KRR_within_perceptionaction_loops.md:358: WARNING: 'myst' reference target not found: #fig:fridge-pl\u001b[39;49;00m\n",
      "\u001b[91m/data/jupyterbook/content/7_8_KRR_within_perceptionaction_loops.md:410: WARNING: 'myst' reference target not found: #fig:fridge-usd1\u001b[39;49;00m\n",
      "\u001b[91m/data/jupyterbook/content/7_8_KRR_within_perceptionaction_loops.md:428: WARNING: 'myst' reference target not found: #fig:fridge-predicates\u001b[39;49;00m\n",
      "\u001b[91m/data/jupyterbook/content/7_8_KRR_within_perceptionaction_loops.md:227: WARNING: Pygments lexer name 'tabbing' is not known\u001b[39;49;00m\n",
      "\u001b[91m/data/jupyterbook/content/7_8_KRR_within_perceptionaction_loops.md:253: WARNING: Pygments lexer name 'tabbing' is not known\u001b[39;49;00m\n",
      "\u001b[91m/data/jupyterbook/content/7_8_KRR_within_perceptionaction_loops.md:270: WARNING: Pygments lexer name 'tabbing' is not known\u001b[39;49;00m\n",
      "\u001b[91m/data/jupyterbook/content/7_8_KRR_within_perceptionaction_loops.md:292: WARNING: Pygments lexer name 'tabbing' is not known\u001b[39;49;00m\n",
      "\u001b[91m/data/jupyterbook/content/7_8_KRR_within_perceptionaction_loops.md:311: WARNING: Pygments lexer name 'tabbing' is not known\u001b[39;49;00m\n",
      "\u001b[91m/data/jupyterbook/content/9_2_Planbased_control.md:13: WARNING: 'myst' reference target not found: giskard.de/wiki:tutorials\u001b[39;49;00m\n",
      "\u001b[91m/data/jupyterbook/content/__main__.md:5: WARNING: 'myst' reference target not found: #img:pr2_robot\u001b[39;49;00m\n",
      "\u001b[91m/data/jupyterbook/content/__main__.md:17: WARNING: 'myst' reference target not found: #img:pr2_controller\u001b[39;49;00m\n",
      "\u001b[91m/data/jupyterbook/content/__main__.md:111: WARNING: 'myst' reference target not found: #fig:making-popcorn\u001b[39;49;00m\n",
      "\u001b[91m/data/jupyterbook/content/__main__.md:289: WARNING: 'myst' reference target not found: #img:control_system\u001b[39;49;00m\n",
      "\u001b[91m/data/jupyterbook/content/__main__.md:322: WARNING: 'myst' reference target not found: #sec:illustrative-examples\u001b[39;49;00m\n",
      "\u001b[91m/data/jupyterbook/content/__main__.md:400: WARNING: 'myst' reference target not found: #fig:household-challenge\u001b[39;49;00m\n",
      "\u001b[91m/data/jupyterbook/content/__main__.md:442: WARNING: 'myst' reference target not found: #fig:pick-up-variations\u001b[39;49;00m\n",
      "\u001b[91m/data/jupyterbook/content/__main__.md:465: WARNING: 'myst' reference target not found: #fig:replenishing-shelves\u001b[39;49;00m\n",
      "\u001b[91m/data/jupyterbook/content/__main__.md:509: WARNING: 'myst' reference target not found: #fig:store-mapping\u001b[39;49;00m\n",
      "\u001b[91m/data/jupyterbook/content/__main__.md:527: WARNING: 'myst' reference target not found: #fig:replenishing-shelves\u001b[39;49;00m\n",
      "\u001b[91m/data/jupyterbook/content/__main__.md:551: WARNING: 'myst' reference target not found: #fig:medical_lab\u001b[39;49;00m\n",
      "\u001b[91m/data/jupyterbook/content/__main__.md:616: WARNING: 'myst' reference target not found: #sec:household-challenge\u001b[39;49;00m\n",
      "\u001b[91m/data/jupyterbook/content/__main__.md:644: WARNING: 'myst' reference target not found: #fig:learning-from-videos\u001b[39;49;00m\n",
      "\u001b[91m/data/jupyterbook/content/__main__.md:915: WARNING: 'myst' reference target not found: #fig:book-organization\u001b[39;49;00m\n",
      "\u001b[91m/data/jupyterbook/content/__main__.md:1080: WARNING: 'myst' reference target not found: #fig:rational-agent-model\u001b[39;49;00m\n",
      "\u001b[91m/data/jupyterbook/content/__main__.md:1298: WARNING: 'myst' reference target not found: #tab:actuators_grippers_and_manipulators\u001b[39;49;00m\n",
      "\u001b[91m/data/jupyterbook/content/__main__.md:1358: WARNING: 'myst' reference target not found: #fig:joints\u001b[39;49;00m\n",
      "\u001b[91m/data/jupyterbook/content/__main__.md:1382: WARNING: 'myst' reference target not found: #fig:joints\u001b[39;49;00m\n",
      "\u001b[91m/data/jupyterbook/content/__main__.md:1382: WARNING: 'myst' reference target not found: #fig:cylindric\u001b[39;49;00m\n",
      "\u001b[91m/data/jupyterbook/content/__main__.md:1405: WARNING: 'myst' reference target not found: #fig:locomotion-types\u001b[39;49;00m\n",
      "\u001b[91m/data/jupyterbook/content/__main__.md:1405: WARNING: 'myst' reference target not found: #tab:drives\u001b[39;49;00m\n",
      "\u001b[91m/data/jupyterbook/content/__main__.md:1579: WARNING: 'myst' reference target not found: #tab:pr2_dofs\u001b[39;49;00m\n",
      "\u001b[91m/data/jupyterbook/content/__main__.md:1603: WARNING: 'myst' reference target not found: #fig:pr2_casters\u001b[39;49;00m\n",
      "\u001b[91m/data/jupyterbook/content/__main__.md:1616: WARNING: 'myst' reference target not found: #img:pr2_gripper\u001b[39;49;00m\n",
      "\u001b[91m/data/jupyterbook/content/__main__.md:1627: WARNING: 'myst' reference target not found: #img:pr2_laser_tilt\u001b[39;49;00m\n",
      "\u001b[91m/data/jupyterbook/content/__main__.md:1627: WARNING: 'myst' reference target not found: #img:pr2_laser_base\u001b[39;49;00m\n",
      "\u001b[91m/data/jupyterbook/content/__main__.md:1627: WARNING: 'myst' reference target not found: #img:pr2_camera\u001b[39;49;00m\n",
      "\u001b[91m/data/jupyterbook/content/__main__.md:1771: WARNING: 'myst' reference target not found: #fig:state-abstraction\u001b[39;49;00m\n",
      "\u001b[91m/data/jupyterbook/content/__main__.md:1854: WARNING: 'myst' reference target not found: #fig:state-abstraction\u001b[39;49;00m\n",
      "\u001b[91m/data/jupyterbook/content/__main__.md:1928: WARNING: 'myst' reference target not found: #sec:discussion\u001b[39;49;00m\n",
      "\u001b[91m/data/jupyterbook/content/__main__.md:1983: WARNING: 'myst' reference target not found: #fig:state-transition-system\u001b[39;49;00m\n",
      "\u001b[91m/data/jupyterbook/content/__main__.md:2003: WARNING: 'myst' reference target not found: #fig:state-transition-system\u001b[39;49;00m\n",
      "\u001b[91m/data/jupyterbook/content/__main__.md:2019: WARNING: 'myst' reference target not found: #fig:state-transition-system\u001b[39;49;00m\n",
      "\u001b[91m/data/jupyterbook/content/__main__.md:2064: WARNING: 'myst' reference target not found: #img:unexpected_changes\u001b[39;49;00m\n",
      "\u001b[91m/data/jupyterbook/content/__main__.md:2091: WARNING: 'myst' reference target not found: #img:robot_environment\u001b[39;49;00m\n",
      "\u001b[91m/data/jupyterbook/content/__main__.md:2099: WARNING: 'myst' reference target not found: #img:sensor_principle\u001b[39;49;00m\n",
      "\u001b[91m/data/jupyterbook/content/__main__.md:2107: WARNING: 'myst' reference target not found: #img:sensor_ubiquitous\u001b[39;49;00m\n",
      "\u001b[91m/data/jupyterbook/content/__main__.md:2151: WARNING: 'myst' reference target not found: #img:sensor-vs-perceptor\u001b[39;49;00m\n",
      "\u001b[91m/data/jupyterbook/content/__main__.md:2151: WARNING: 'myst' reference target not found: #img:sensor-vs-perceptor\u001b[39;49;00m\n",
      "\u001b[91m/data/jupyterbook/content/__main__.md:2222: WARNING: 'myst' reference target not found: #img:pr2_camera\u001b[39;49;00m\n",
      "\u001b[91m/data/jupyterbook/content/__main__.md:2320: WARNING: 'myst' reference target not found: #img:mechanical_sensors\u001b[39;49;00m\n",
      "\u001b[91m/data/jupyterbook/content/__main__.md:2417: WARNING: 'myst' reference target not found: #img:sensor_sensitivity\u001b[39;49;00m\n",
      "\u001b[91m/data/jupyterbook/content/__main__.md:2438: WARNING: 'myst' reference target not found: #img:sensor_precision\u001b[39;49;00m\n",
      "\u001b[91m/data/jupyterbook/content/__main__.md:2483: WARNING: 'myst' reference target not found: #img:sensor_hysteresis\u001b[39;49;00m\n",
      "\u001b[91m/data/jupyterbook/content/__main__.md:2502: WARNING: 'myst' reference target not found: #img:sensors_ros\u001b[39;49;00m\n",
      "\u001b[91m/data/jupyterbook/content/__main__.md:2527: WARNING: 'myst' reference target not found: #img:sensor_data\u001b[39;49;00m\n",
      "\u001b[91m/data/jupyterbook/content/__main__.md:2541: WARNING: 'myst' reference target not found: #img:sensor_noise\u001b[39;49;00m\n",
      "\u001b[91m/data/jupyterbook/content/__main__.md:2617: WARNING: 'myst' reference target not found: #img:sensor_model\u001b[39;49;00m\n",
      "\u001b[91m/data/jupyterbook/content/__main__.md:2633: WARNING: 'myst' reference target not found: #img:sensor_sample\u001b[39;49;00m\n",
      "\u001b[91m/data/jupyterbook/content/__main__.md:2650: WARNING: 'myst' reference target not found: #img:sensor_model_approximation\u001b[39;49;00m\n",
      "\u001b[91m/data/jupyterbook/content/__main__.md:2678: WARNING: 'myst' reference target not found: #img:sensor_denoising\u001b[39;49;00m\n",
      "\u001b[91m/data/jupyterbook/content/__main__.md:2678: WARNING: 'myst' reference target not found: #img:sensor_denoising\u001b[39;49;00m\n",
      "\u001b[91m/data/jupyterbook/content/__main__.md:2818: WARNING: 'myst' reference target not found: #fig:knowlege-enabled-agent\u001b[39;49;00m\n",
      "\u001b[91m/data/jupyterbook/content/__main__.md:2848: WARNING: 'myst' reference target not found: #sec:knowledge-system\u001b[39;49;00m\n",
      "\u001b[91m/data/jupyterbook/content/__main__.md:2901: WARNING: 'myst' reference target not found: #fig:follows-and-entails\u001b[39;49;00m\n",
      "\u001b[91m/data/jupyterbook/content/__main__.md:2942: WARNING: 'myst' reference target not found: #fig:logic\u001b[39;49;00m\n",
      "\u001b[91m/data/jupyterbook/content/__main__.md:3147: WARNING: 'myst' reference target not found: #sec:complexity\u001b[39;49;00m\n",
      "\u001b[91m/data/jupyterbook/content/__main__.md:3492: WARNING: 'myst' reference target not found: #eq:initial-state\u001b[39;49;00m\n",
      "\u001b[91m/data/jupyterbook/content/__main__.md:3492: WARNING: 'myst' reference target not found: #eq:goal-state\u001b[39;49;00m\n",
      "\u001b[91m/data/jupyterbook/content/__main__.md:3526: WARNING: 'myst' reference target not found: #eq:reasoning-example\u001b[39;49;00m\n",
      "\u001b[91m/data/jupyterbook/content/__main__.md:3576: WARNING: 'myst' reference target not found: #sec:evolution-modelling\u001b[39;49;00m\n",
      "\u001b[91m/data/jupyterbook/content/__main__.md:3797: WARNING: 'myst' reference target not found: #fig:Flannagan\u001b[39;49;00m\n",
      "\u001b[91m/data/jupyterbook/content/__main__.md:3831: WARNING: 'myst' reference target not found: #fig:constraint-based-control\u001b[39;49;00m\n",
      "\u001b[91m/data/jupyterbook/content/__main__.md:3852: WARNING: 'myst' reference target not found: #fig:generalized-knowledge\u001b[39;49;00m\n",
      "\u001b[91m/data/jupyterbook/content/__main__.md:3928: WARNING: 'myst' reference target not found: #fig:motion-plan\u001b[39;49;00m\n",
      "\u001b[91m/data/jupyterbook/content/__main__.md:3943: WARNING: 'myst' reference target not found: #fig:generalized-knowledge\u001b[39;49;00m\n",
      "\u001b[91m/data/jupyterbook/content/__main__.md:3991: WARNING: 'myst' reference target not found: #fig:making-popcorn\u001b[39;49;00m\n",
      "\u001b[91m/data/jupyterbook/content/__main__.md:4080: WARNING: 'myst' reference target not found: #sec:contextualization\u001b[39;49;00m\n",
      "\u001b[91m/data/jupyterbook/content/__main__.md:4112: WARNING: 'myst' reference target not found: #fig:fridge-pl\u001b[39;49;00m\n",
      "\u001b[91m/data/jupyterbook/content/__main__.md:4164: WARNING: 'myst' reference target not found: #fig:fridge-usd1\u001b[39;49;00m\n",
      "\u001b[91m/data/jupyterbook/content/__main__.md:4182: WARNING: 'myst' reference target not found: #fig:fridge-predicates\u001b[39;49;00m\n",
      "\u001b[91m/data/jupyterbook/content/__main__.md:4398: WARNING: 'myst' reference target not found: giskard.de/wiki:tutorials\u001b[39;49;00m\n",
      "\u001b[91m/data/jupyterbook/content/__main__.md:4908: WARNING: 'myst' reference target not found: #sec:action-modelling\u001b[39;49;00m\n",
      "\u001b[91m/data/jupyterbook/content/__main__.md:255: WARNING: Pygments lexer name 'StoryNote' is not known\u001b[39;49;00m\n",
      "\u001b[91m/data/jupyterbook/content/__main__.md:331: WARNING: Pygments lexer name 'StoryNote' is not known\u001b[39;49;00m\n",
      "\u001b[91m/data/jupyterbook/content/__main__.md:1043: WARNING: Pygments lexer name 'StoryNote' is not known\u001b[39;49;00m\n",
      "\u001b[91m/data/jupyterbook/content/__main__.md:1086: WARNING: Pygments lexer name 'definition' is not known\u001b[39;49;00m\n",
      "\u001b[91m/data/jupyterbook/content/__main__.md:1096: WARNING: Pygments lexer name 'definition' is not known\u001b[39;49;00m\n",
      "\u001b[91m/data/jupyterbook/content/__main__.md:1102: WARNING: Pygments lexer name 'definition' is not known\u001b[39;49;00m\n",
      "\u001b[91m/data/jupyterbook/content/__main__.md:1108: WARNING: Pygments lexer name 'definition' is not known\u001b[39;49;00m\n",
      "\u001b[91m/data/jupyterbook/content/__main__.md:1470: WARNING: Pygments lexer name 'center' is not known\u001b[39;49;00m\n",
      "\u001b[91m/data/jupyterbook/content/__main__.md:1478: WARNING: Pygments lexer name 'center' is not known\u001b[39;49;00m\n",
      "\u001b[91m/data/jupyterbook/content/__main__.md:1498: WARNING: Pygments lexer name 'center' is not known\u001b[39;49;00m\n",
      "\u001b[91m/data/jupyterbook/content/__main__.md:1504: WARNING: Pygments lexer name 'center' is not known\u001b[39;49;00m\n",
      "\u001b[91m/data/jupyterbook/content/__main__.md:1513: WARNING: Pygments lexer name 'center' is not known\u001b[39;49;00m\n",
      "\u001b[91m/data/jupyterbook/content/__main__.md:3211: WARNING: Pygments lexer name 'tabbing' is not known\u001b[39;49;00m\n",
      "\u001b[91m/data/jupyterbook/content/__main__.md:3496: WARNING: Pygments lexer name 'tabbing' is not known\u001b[39;49;00m\n",
      "\u001b[91m/data/jupyterbook/content/__main__.md:3981: WARNING: Pygments lexer name 'tabbing' is not known\u001b[39;49;00m\n",
      "\u001b[91m/data/jupyterbook/content/__main__.md:4007: WARNING: Pygments lexer name 'tabbing' is not known\u001b[39;49;00m\n",
      "\u001b[91m/data/jupyterbook/content/__main__.md:4024: WARNING: Pygments lexer name 'tabbing' is not known\u001b[39;49;00m\n",
      "\u001b[91m/data/jupyterbook/content/__main__.md:4046: WARNING: Pygments lexer name 'tabbing' is not known\u001b[39;49;00m\n",
      "\u001b[91m/data/jupyterbook/content/__main__.md:4065: WARNING: Pygments lexer name 'tabbing' is not known\u001b[39;49;00m\n",
      "\u001b[91m/data/jupyterbook/content/__main__.md:4716: WARNING: Pygments lexer name '{.prolog' is not known\u001b[39;49;00m\n",
      "\u001b[91m/data/jupyterbook/content/__main__.md:4877: WARNING: Pygments lexer name 'center' is not known\u001b[39;49;00m\n",
      "\u001b[01mgenerating indices... \u001b[39;49;00mgenindex done\n",
      "\u001b[01mwriting additional pages... \u001b[39;49;00msearch done\n",
      "\u001b[01mcopying images... \u001b[39;49;00m[100%] \u001b[33mcover.png\u001b[39;49;00m                                              \n",
      "\u001b[01mcopying static files... \u001b[39;49;00mdone\n",
      "\u001b[01mcopying extra files... \u001b[39;49;00mdone\n",
      "\u001b[01mdumping search index in English (code: en)... \u001b[39;49;00mdone\n",
      "\u001b[01mdumping object inventory... \u001b[39;49;00mdone\n",
      "[etoc] missing index.html written as redirect to 'intro.html'\n",
      "\u001b[01mbuild succeeded, 267 warnings.\u001b[39;49;00m\n",
      "\n",
      "The HTML pages are in jupyterbook/_build/html.\n",
      "\n",
      "\u001b[92m===============================================================================\u001b[0m\n",
      "\n",
      "Finished generating HTML for book.\n",
      "Your book's HTML pages are here:\n",
      "    jupyterbook/_build/html/\n",
      "You can look at your book by opening this file in a browser:\n",
      "    jupyterbook/_build/html/index.html\n",
      "Or paste this line directly into your browser bar:\n",
      "    file:///data/jupyterbook/_build/html/index.html            \n",
      "\n",
      "\u001b[92m===============================================================================\u001b[0m\n",
      "\n"
     ]
    }
   ],
   "source": [
    "print('~~~~~~~~~~ Building Jupyter Book ~~~~~~~~~~')\n",
    "!rm -rf $JB_OUTPUT_PATH\n",
    "!jupyter-book build ${WORKSPACE}/jupyterbook/\n",
    "!cp $MD_OUTPUT_PATH/* $JB_OUTPUT_PATH/html/content\n",
    "!rm -rf /data/html && mv $JB_OUTPUT_PATH/html /data/"
   ]
  },
  {
   "cell_type": "code",
   "execution_count": null,
   "id": "88948210-f801-4204-85c2-1b8a29840477",
   "metadata": {},
   "outputs": [],
   "source": []
  }
 ],
 "metadata": {
  "kernelspec": {
   "display_name": "Python 3 (ipykernel)",
   "language": "python",
   "name": "python3"
  },
  "language_info": {
   "codemirror_mode": {
    "name": "ipython",
    "version": 3
   },
   "file_extension": ".py",
   "mimetype": "text/x-python",
   "name": "python",
   "nbconvert_exporter": "python",
   "pygments_lexer": "ipython3",
   "version": "3.10.6"
  }
 },
 "nbformat": 4,
 "nbformat_minor": 5
}
